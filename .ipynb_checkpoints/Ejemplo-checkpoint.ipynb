{
 "cells": [
  {
   "cell_type": "code",
   "execution_count": 9,
   "id": "cab90e7b-288e-4fa2-b4ec-607c7fb9331e",
   "metadata": {},
   "outputs": [
    {
     "name": "stdout",
     "output_type": "stream",
     "text": [
      "Collecting Pyarrow\n",
      "  Downloading pyarrow-15.0.0-cp310-cp310-manylinux_2_28_x86_64.whl.metadata (3.0 kB)\n",
      "Requirement already satisfied: numpy<2,>=1.16.6 in /home/reroes/entornos/envpy310-ia-maestria/lib/python3.10/site-packages (from Pyarrow) (1.26.3)\n",
      "Downloading pyarrow-15.0.0-cp310-cp310-manylinux_2_28_x86_64.whl (38.3 MB)\n",
      "\u001b[2K   \u001b[38;2;114;156;31m━━━━━━━━━━━━━━━━━━━━━━━━━━━━━━━━━━━━━━━━\u001b[0m \u001b[32m38.3/38.3 MB\u001b[0m \u001b[31m6.2 MB/s\u001b[0m eta \u001b[36m0:00:00\u001b[0mm eta \u001b[36m0:00:01\u001b[0m[36m0:00:01\u001b[0m\n",
      "\u001b[?25hInstalling collected packages: Pyarrow\n",
      "Successfully installed Pyarrow-15.0.0\n"
     ]
    }
   ],
   "source": [
    "# !pip install pandas\n",
    "!pip install Pyarrow"
   ]
  },
  {
   "cell_type": "code",
   "execution_count": 10,
   "id": "1fb8eff1-529e-4058-8b9e-b333b209ccd0",
   "metadata": {},
   "outputs": [],
   "source": [
    "import pandas as pd\n",
    "# se importa y se carga el dataset\n",
    "from sklearn.datasets import load_breast_cancer \n",
    "dataset = load_breast_cancer()\n",
    "# se convierte a un dataframe de pandas\n"
   ]
  },
  {
   "cell_type": "code",
   "execution_count": 17,
   "id": "9e3b6451-e2cf-48a6-9508-4da884c11bbd",
   "metadata": {},
   "outputs": [],
   "source": [
    "# se convierte a un dataframe de pandas \n",
    "df = pd.DataFrame(dataset.data, columns=dataset.feature_names) \n",
    "df['tipo'] = dataset.target[df.index] \n",
    "# se obtienen los valores para las variables X e y \n",
    "X = df.iloc[:,:-1] \n",
    "y = df['tipo'].values"
   ]
  },
  {
   "cell_type": "code",
   "execution_count": 28,
   "id": "e15d145a-8b1e-43c6-976d-3930979a8d61",
   "metadata": {},
   "outputs": [
    {
     "ename": "ValueError",
     "evalue": "Invalid format specifier",
     "output_type": "error",
     "traceback": [
      "\u001b[0;31m---------------------------------------------------------------------------\u001b[0m",
      "\u001b[0;31mValueError\u001b[0m                                Traceback (most recent call last)",
      "Cell \u001b[0;32mIn[28], line 9\u001b[0m\n\u001b[1;32m      7\u001b[0m reg\u001b[38;5;241m.\u001b[39mfit(X_train,y_train) \n\u001b[1;32m      8\u001b[0m \u001b[38;5;28;01mfrom\u001b[39;00m \u001b[38;5;21;01msklearn\u001b[39;00m\u001b[38;5;21;01m.\u001b[39;00m\u001b[38;5;21;01mmetrics\u001b[39;00m \u001b[38;5;28;01mimport\u001b[39;00m accuracy_score\n\u001b[0;32m----> 9\u001b[0m \u001b[38;5;28mprint\u001b[39m(\u001b[38;5;124;43m\"\u001b[39;49m\u001b[38;5;124;43mExactitud \u001b[39;49m\u001b[38;5;124;43m{\u001b[39;49m\u001b[38;5;124;43m:.2f }\u001b[39;49m\u001b[38;5;124;43m\"\u001b[39;49m\u001b[38;5;241;43m.\u001b[39;49m\u001b[43mformat\u001b[49m\u001b[43m(\u001b[49m\u001b[43maccuracy_score\u001b[49m\u001b[43m(\u001b[49m\u001b[43my_test\u001b[49m\u001b[43m,\u001b[49m\u001b[43m \u001b[49m\u001b[43mreg\u001b[49m\u001b[38;5;241;43m.\u001b[39;49m\u001b[43mpredict\u001b[49m\u001b[43m(\u001b[49m\u001b[43mX_test\u001b[49m\u001b[43m)\u001b[49m\u001b[43m)\u001b[49m\u001b[43m)\u001b[49m)\n",
      "\u001b[0;31mValueError\u001b[0m: Invalid format specifier"
     ]
    }
   ],
   "source": [
    "# se separan los datos en conjuntos de prueba y entrenamiento \n",
    "from sklearn.model_selection import train_test_split \n",
    "X_train, X_test, y_train, y_test = train_test_split(X, y, test_size=0.3) # se crea una instancia de la clase LogisticRegression  \n",
    "from sklearn.linear_model import LogisticRegression \n",
    "reg = LogisticRegression(max_iter=10000) \n",
    "# se entrena el modelo con lo datos de entrenamiento \n",
    "reg.fit(X_train,y_train) \n",
    "from sklearn.metrics import accuracy_score\n",
    "print(\"Exactitud {:.2f }\".format(accuracy_score(y_test, reg.predict(X_test))))\n"
   ]
  }
 ],
 "metadata": {
  "kernelspec": {
   "display_name": "Python 3 (ipykernel)",
   "language": "python",
   "name": "python3"
  },
  "language_info": {
   "codemirror_mode": {
    "name": "ipython",
    "version": 3
   },
   "file_extension": ".py",
   "mimetype": "text/x-python",
   "name": "python",
   "nbconvert_exporter": "python",
   "pygments_lexer": "ipython3",
   "version": "3.10.12"
  }
 },
 "nbformat": 4,
 "nbformat_minor": 5
}
