{
 "cells": [
  {
   "cell_type": "code",
   "execution_count": 9,
   "id": "cab90e7b-288e-4fa2-b4ec-607c7fb9331e",
   "metadata": {},
   "outputs": [
    {
     "name": "stdout",
     "output_type": "stream",
     "text": [
      "Collecting Pyarrow\n",
      "  Downloading pyarrow-15.0.0-cp310-cp310-manylinux_2_28_x86_64.whl.metadata (3.0 kB)\n",
      "Requirement already satisfied: numpy<2,>=1.16.6 in /home/reroes/entornos/envpy310-ia-maestria/lib/python3.10/site-packages (from Pyarrow) (1.26.3)\n",
      "Downloading pyarrow-15.0.0-cp310-cp310-manylinux_2_28_x86_64.whl (38.3 MB)\n",
      "\u001b[2K   \u001b[38;2;114;156;31m━━━━━━━━━━━━━━━━━━━━━━━━━━━━━━━━━━━━━━━━\u001b[0m \u001b[32m38.3/38.3 MB\u001b[0m \u001b[31m6.2 MB/s\u001b[0m eta \u001b[36m0:00:00\u001b[0mm eta \u001b[36m0:00:01\u001b[0m[36m0:00:01\u001b[0m\n",
      "\u001b[?25hInstalling collected packages: Pyarrow\n",
      "Successfully installed Pyarrow-15.0.0\n"
     ]
    }
   ],
   "source": [
    "# !pip install pandas\n",
    "!pip install Pyarrow"
   ]
  },
  {
   "cell_type": "code",
   "execution_count": 10,
   "id": "1fb8eff1-529e-4058-8b9e-b333b209ccd0",
   "metadata": {},
   "outputs": [],
   "source": [
    "import pandas as pd\n",
    "# se importa y se carga el dataset\n",
    "from sklearn.datasets import load_breast_cancer \n",
    "dataset = load_breast_cancer()\n",
    "# se convierte a un dataframe de pandas\n"
   ]
  },
  {
   "cell_type": "code",
   "execution_count": 17,
   "id": "9e3b6451-e2cf-48a6-9508-4da884c11bbd",
   "metadata": {},
   "outputs": [],
   "source": [
    "# se convierte a un dataframe de pandas \n",
    "df = pd.DataFrame(dataset.data, columns=dataset.feature_names) \n",
    "df['tipo'] = dataset.target[df.index] \n",
    "# se obtienen los valores para las variables X e y \n",
    "X = df.iloc[:,:-1] \n",
    "y = df['tipo'].values"
   ]
  },
  {
   "cell_type": "code",
   "execution_count": 31,
   "id": "e15d145a-8b1e-43c6-976d-3930979a8d61",
   "metadata": {},
   "outputs": [
    {
     "name": "stdout",
     "output_type": "stream",
     "text": [
      "Exactitud {:0.94 }\n"
     ]
    }
   ],
   "source": [
    "# se separan los datos en conjuntos de prueba y entrenamiento \n",
    "from sklearn.model_selection import train_test_split \n",
    "X_train, X_test, y_train, y_test = train_test_split(X, y, test_size=0.3) # se crea una instancia de la clase LogisticRegression  \n",
    "from sklearn.linear_model import LogisticRegression \n",
    "reg = LogisticRegression(max_iter=10000) \n",
    "# se entrena el modelo con lo datos de entrenamiento \n",
    "reg.fit(X_train,y_train) \n",
    "from sklearn.metrics import accuracy_score\n",
    "print(\"Exactitud {:%.2f }\"%(accuracy_score(y_test, reg.predict(X_test))))\n"
   ]
  }
 ],
 "metadata": {
  "kernelspec": {
   "display_name": "Python 3 (ipykernel)",
   "language": "python",
   "name": "python3"
  },
  "language_info": {
   "codemirror_mode": {
    "name": "ipython",
    "version": 3
   },
   "file_extension": ".py",
   "mimetype": "text/x-python",
   "name": "python",
   "nbconvert_exporter": "python",
   "pygments_lexer": "ipython3",
   "version": "3.10.12"
  }
 },
 "nbformat": 4,
 "nbformat_minor": 5
}
