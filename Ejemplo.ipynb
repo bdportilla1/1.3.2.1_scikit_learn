{
 "cells": [
  {
   "cell_type": "code",
   "execution_count": null,
   "id": "28145a7f-3b9d-4bd3-8b1b-81ba80ff7aca",
   "metadata": {},
   "outputs": [],
   "source": [
    "\"\"\"\n",
    "Ejemplo tomado de \n",
    "Pineda Pertuz, C. (2022). Aprendizaje automático y profundo en Python: una mirada hacia la inteligencia artificial: \n",
    "(1 ed.). Madrid, RA-MA Editorial. Recuperado de https://elibro.net/es/ereader/bibliotecautpl/230579?page=73.\n",
    "\"\"\""
   ]
  },
  {
   "cell_type": "code",
   "execution_count": 10,
   "id": "1fb8eff1-529e-4058-8b9e-b333b209ccd0",
   "metadata": {},
   "outputs": [],
   "source": [
    "import pandas as pd\n",
    "# se importa y se carga el dataset\n",
    "from sklearn.datasets import load_breast_cancer \n",
    "dataset = load_breast_cancer()\n",
    "# se convierte a un dataframe de pandas\n"
   ]
  },
  {
   "cell_type": "code",
   "execution_count": 17,
   "id": "9e3b6451-e2cf-48a6-9508-4da884c11bbd",
   "metadata": {},
   "outputs": [],
   "source": [
    "# se convierte a un dataframe de pandas \n",
    "df = pd.DataFrame(dataset.data, columns=dataset.feature_names) \n",
    "df['tipo'] = dataset.target[df.index] \n",
    "# se obtienen los valores para las variables X e y \n",
    "X = df.iloc[:,:-1] \n",
    "y = df['tipo'].values"
   ]
  },
  {
   "cell_type": "code",
   "execution_count": 31,
   "id": "e15d145a-8b1e-43c6-976d-3930979a8d61",
   "metadata": {},
   "outputs": [
    {
     "name": "stdout",
     "output_type": "stream",
     "text": [
      "Exactitud {:0.94 }\n"
     ]
    }
   ],
   "source": [
    "# se separan los datos en conjuntos de prueba y entrenamiento \n",
    "from sklearn.model_selection import train_test_split \n",
    "X_train, X_test, y_train, y_test = train_test_split(X, y, test_size=0.3) # se crea una instancia de la clase LogisticRegression  \n",
    "from sklearn.linear_model import LogisticRegression \n",
    "reg = LogisticRegression(max_iter=10000) \n",
    "# se entrena el modelo con lo datos de entrenamiento \n",
    "reg.fit(X_train,y_train) \n",
    "from sklearn.metrics import accuracy_score\n",
    "print(\"Exactitud {:%.2f }\"%(accuracy_score(y_test, reg.predict(X_test))))\n"
   ]
  }
 ],
 "metadata": {
  "kernelspec": {
   "display_name": "Python 3 (ipykernel)",
   "language": "python",
   "name": "python3"
  },
  "language_info": {
   "codemirror_mode": {
    "name": "ipython",
    "version": 3
   },
   "file_extension": ".py",
   "mimetype": "text/x-python",
   "name": "python",
   "nbconvert_exporter": "python",
   "pygments_lexer": "ipython3",
   "version": "3.10.12"
  }
 },
 "nbformat": 4,
 "nbformat_minor": 5
}
